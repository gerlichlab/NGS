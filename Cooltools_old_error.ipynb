{
 "cells": [
  {
   "cell_type": "code",
   "execution_count": 1,
   "metadata": {},
   "outputs": [],
   "source": [
    "import pandas as pd\n",
    "import cooler\n",
    "import numpy as np\n",
    "import bioframe\n",
    "import cooltools.expected\n",
    "import cooltools.snipping\n",
    "import cooltools"
   ]
  },
  {
   "cell_type": "code",
   "execution_count": 2,
   "metadata": {},
   "outputs": [
    {
     "output_type": "execute_result",
     "data": {
      "text/plain": "'0.2.0'"
     },
     "metadata": {},
     "execution_count": 2
    }
   ],
   "source": [
    "cooltools.__version__"
   ]
  },
  {
   "cell_type": "markdown",
   "metadata": {},
   "source": [
    "# Load data"
   ]
  },
  {
   "cell_type": "markdown",
   "metadata": {},
   "source": [
    "## Pileup positions"
   ]
  },
  {
   "cell_type": "code",
   "execution_count": 3,
   "metadata": {},
   "outputs": [],
   "source": [
    "url = \"https://raw.githubusercontent.com/gerlichlab/ngs/master/testFiles/test3_realData.bed\"\n",
    "positionFrame = pd.read_csv(url, sep=\"\\t\", index_col=0)"
   ]
  },
  {
   "cell_type": "code",
   "execution_count": 4,
   "metadata": {},
   "outputs": [
    {
     "output_type": "execute_result",
     "data": {
      "text/plain": "       chrom        pos\n15795  chr17   27571011\n860     chr1   47995376\n38158   chr9   85942215\n11284  chr13   60800839\n6265   chr10  123495918\n...      ...        ...\n8392   chr11  123132315\n30535   chr5  162710426\n13067  chr15   44422321\n23599   chr3    1159864\n35222   chr7  142353460\n\n[100 rows x 2 columns]",
      "text/html": "<div>\n<style scoped>\n    .dataframe tbody tr th:only-of-type {\n        vertical-align: middle;\n    }\n\n    .dataframe tbody tr th {\n        vertical-align: top;\n    }\n\n    .dataframe thead th {\n        text-align: right;\n    }\n</style>\n<table border=\"1\" class=\"dataframe\">\n  <thead>\n    <tr style=\"text-align: right;\">\n      <th></th>\n      <th>chrom</th>\n      <th>pos</th>\n    </tr>\n  </thead>\n  <tbody>\n    <tr>\n      <th>15795</th>\n      <td>chr17</td>\n      <td>27571011</td>\n    </tr>\n    <tr>\n      <th>860</th>\n      <td>chr1</td>\n      <td>47995376</td>\n    </tr>\n    <tr>\n      <th>38158</th>\n      <td>chr9</td>\n      <td>85942215</td>\n    </tr>\n    <tr>\n      <th>11284</th>\n      <td>chr13</td>\n      <td>60800839</td>\n    </tr>\n    <tr>\n      <th>6265</th>\n      <td>chr10</td>\n      <td>123495918</td>\n    </tr>\n    <tr>\n      <th>...</th>\n      <td>...</td>\n      <td>...</td>\n    </tr>\n    <tr>\n      <th>8392</th>\n      <td>chr11</td>\n      <td>123132315</td>\n    </tr>\n    <tr>\n      <th>30535</th>\n      <td>chr5</td>\n      <td>162710426</td>\n    </tr>\n    <tr>\n      <th>13067</th>\n      <td>chr15</td>\n      <td>44422321</td>\n    </tr>\n    <tr>\n      <th>23599</th>\n      <td>chr3</td>\n      <td>1159864</td>\n    </tr>\n    <tr>\n      <th>35222</th>\n      <td>chr7</td>\n      <td>142353460</td>\n    </tr>\n  </tbody>\n</table>\n<p>100 rows × 2 columns</p>\n</div>"
     },
     "metadata": {},
     "execution_count": 4
    }
   ],
   "source": [
    "positionFrame"
   ]
  },
  {
   "cell_type": "markdown",
   "metadata": {},
   "source": [
    "## Cooler"
   ]
  },
  {
   "cell_type": "code",
   "execution_count": 5,
   "metadata": {
    "tags": []
   },
   "outputs": [
    {
     "output_type": "stream",
     "name": "stderr",
     "text": "% Total    % Received % Xferd  Average Speed   Time    Time     Time  Current\n                                 Dload  Upload   Total   Spent    Left  Speed\n100 40.2M  100 40.2M    0     0  25.0M      0  0:00:01  0:00:01 --:--:-- 25.1M\n"
    }
   ],
   "source": [
    "%%bash\n",
    "curl https://raw.githubusercontent.com/gerlichlab/ngs/master/testFiles/test3_realdata.mcool > test.mcool"
   ]
  },
  {
   "cell_type": "code",
   "execution_count": 6,
   "metadata": {},
   "outputs": [],
   "source": [
    "c = cooler.Cooler(\"test.mcool::/resolutions/50000\")\n"
   ]
  },
  {
   "cell_type": "markdown",
   "metadata": {},
   "source": [
    "# Prepare pileup ingredients"
   ]
  },
  {
   "cell_type": "markdown",
   "metadata": {},
   "source": [
    "## Supports"
   ]
  },
  {
   "cell_type": "code",
   "execution_count": 7,
   "metadata": {},
   "outputs": [],
   "source": [
    "chromsizes = bioframe.fetch_chromsizes(\"hg19\")\n",
    "# download centromers\n",
    "cens = bioframe.fetch_centromeres(\"hg19\")\n",
    "cens.set_index(\"chrom\", inplace=True)\n",
    "cens = cens.mid\n",
    "# define chromosomes that are well defined (filter out unassigned contigs)\n",
    "GOOD_CHROMS = list(chromsizes.index[:23])\n",
    "# construct arm regions (for each chromosome fro 0-centromere and from centromere to the end)\n",
    "arms = [\n",
    "    arm\n",
    "    for chrom in GOOD_CHROMS\n",
    "    for arm in (\n",
    "        (chrom, 0, cens.get(chrom, 0)),\n",
    "        (chrom, cens.get(chrom, 0), chromsizes.get(chrom, 0)),\n",
    "    )\n",
    "]\n",
    "# construct dataframe out of arms\n",
    "arms = pd.DataFrame(arms, columns=[\"chrom\", \"start\", \"end\"])"
   ]
  },
  {
   "cell_type": "code",
   "execution_count": 8,
   "metadata": {},
   "outputs": [
    {
     "output_type": "execute_result",
     "data": {
      "text/plain": "  chrom      start        end\n0  chr1          0  125200000\n1  chr1  125200000  249250621\n2  chr2          0   93650000\n3  chr2   93650000  243199373\n4  chr3          0   90900000",
      "text/html": "<div>\n<style scoped>\n    .dataframe tbody tr th:only-of-type {\n        vertical-align: middle;\n    }\n\n    .dataframe tbody tr th {\n        vertical-align: top;\n    }\n\n    .dataframe thead th {\n        text-align: right;\n    }\n</style>\n<table border=\"1\" class=\"dataframe\">\n  <thead>\n    <tr style=\"text-align: right;\">\n      <th></th>\n      <th>chrom</th>\n      <th>start</th>\n      <th>end</th>\n    </tr>\n  </thead>\n  <tbody>\n    <tr>\n      <th>0</th>\n      <td>chr1</td>\n      <td>0</td>\n      <td>125200000</td>\n    </tr>\n    <tr>\n      <th>1</th>\n      <td>chr1</td>\n      <td>125200000</td>\n      <td>249250621</td>\n    </tr>\n    <tr>\n      <th>2</th>\n      <td>chr2</td>\n      <td>0</td>\n      <td>93650000</td>\n    </tr>\n    <tr>\n      <th>3</th>\n      <td>chr2</td>\n      <td>93650000</td>\n      <td>243199373</td>\n    </tr>\n    <tr>\n      <th>4</th>\n      <td>chr3</td>\n      <td>0</td>\n      <td>90900000</td>\n    </tr>\n  </tbody>\n</table>\n</div>"
     },
     "metadata": {},
     "execution_count": 8
    }
   ],
   "source": [
    "arms.head()"
   ]
  },
  {
   "cell_type": "markdown",
   "metadata": {},
   "source": [
    "## Assign regions"
   ]
  },
  {
   "cell_type": "code",
   "execution_count": 9,
   "metadata": {},
   "outputs": [],
   "source": [
    "binsize = 50000\n",
    "window = 500000\n",
    "chroms = positionFrame[\"chrom\"]\n",
    "positions = positionFrame[\"pos\"]"
   ]
  },
  {
   "cell_type": "code",
   "execution_count": 10,
   "metadata": {},
   "outputs": [],
   "source": [
    "# construct windows from the passed chromosomes and positions\n",
    "snipping_windows = cooltools.snipping.make_bin_aligned_windows(\n",
    "        binsize, chroms.values, positions.values, window\n",
    ")\n",
    "# assign chromosomal arm to each position\n",
    "snipping_windows = cooltools.snipping.assign_regions(\n",
    "        snipping_windows, list(arms.itertuples(index=False, name=None))\n",
    ")"
   ]
  },
  {
   "cell_type": "code",
   "execution_count": 11,
   "metadata": {},
   "outputs": [
    {
     "output_type": "execute_result",
     "data": {
      "text/plain": "   chrom      start        end    lo    hi                    region\n0  chr17   27050000   28100000   541   562   chr17:24000000-81195210\n1   chr1   47450000   48500000   949   970          chr1:0-125200000\n2   chr9   85400000   86450000  1708  1729   chr9:49000000-141213431\n3  chr13   60300000   61350000  1206  1227  chr13:17900000-115169878\n4  chr10  122950000  124000000  2459  2480  chr10:40150000-135534747",
      "text/html": "<div>\n<style scoped>\n    .dataframe tbody tr th:only-of-type {\n        vertical-align: middle;\n    }\n\n    .dataframe tbody tr th {\n        vertical-align: top;\n    }\n\n    .dataframe thead th {\n        text-align: right;\n    }\n</style>\n<table border=\"1\" class=\"dataframe\">\n  <thead>\n    <tr style=\"text-align: right;\">\n      <th></th>\n      <th>chrom</th>\n      <th>start</th>\n      <th>end</th>\n      <th>lo</th>\n      <th>hi</th>\n      <th>region</th>\n    </tr>\n  </thead>\n  <tbody>\n    <tr>\n      <th>0</th>\n      <td>chr17</td>\n      <td>27050000</td>\n      <td>28100000</td>\n      <td>541</td>\n      <td>562</td>\n      <td>chr17:24000000-81195210</td>\n    </tr>\n    <tr>\n      <th>1</th>\n      <td>chr1</td>\n      <td>47450000</td>\n      <td>48500000</td>\n      <td>949</td>\n      <td>970</td>\n      <td>chr1:0-125200000</td>\n    </tr>\n    <tr>\n      <th>2</th>\n      <td>chr9</td>\n      <td>85400000</td>\n      <td>86450000</td>\n      <td>1708</td>\n      <td>1729</td>\n      <td>chr9:49000000-141213431</td>\n    </tr>\n    <tr>\n      <th>3</th>\n      <td>chr13</td>\n      <td>60300000</td>\n      <td>61350000</td>\n      <td>1206</td>\n      <td>1227</td>\n      <td>chr13:17900000-115169878</td>\n    </tr>\n    <tr>\n      <th>4</th>\n      <td>chr10</td>\n      <td>122950000</td>\n      <td>124000000</td>\n      <td>2459</td>\n      <td>2480</td>\n      <td>chr10:40150000-135534747</td>\n    </tr>\n  </tbody>\n</table>\n</div>"
     },
     "metadata": {},
     "execution_count": 11
    }
   ],
   "source": [
    "snipping_windows.head()"
   ]
  },
  {
   "cell_type": "markdown",
   "metadata": {},
   "source": [
    "## Expected dataframe"
   ]
  },
  {
   "cell_type": "code",
   "execution_count": 12,
   "metadata": {},
   "outputs": [],
   "source": [
    "expected = cooltools.expected.diagsum(\n",
    "        c,\n",
    "        tuple(arms.itertuples(index=False, name=None)),\n",
    "        transforms={\"balanced\": lambda p: p[\"count\"] * p[\"weight1\"] * p[\"weight2\"]},\n",
    "        ignore_diags=0,\n",
    "    )\n",
    "# construct a single dataframe for all regions (arms)\n",
    "expected_df = pd.concat(\n",
    "    [\n",
    "        exp.reset_index().assign(chrom=reg[0], start=reg[1], end=reg[2])\n",
    "        for reg, exp in expected.items()\n",
    "    ]\n",
    ")\n",
    "# aggregate diagonals over the regions specified by chrom, start, end (arms)\n",
    "expected_df = (\n",
    "    expected_df.groupby([\"chrom\", \"start\", \"end\", \"diag\"])\n",
    "    .aggregate({\"n_valid\": \"sum\", \"count.sum\": \"sum\", \"balanced.sum\": \"sum\"})\n",
    "    .reset_index()\n",
    ")\n",
    "# account for different number of valid bins in diagonals\n",
    "expected_df[\"balanced.avg\"] = expected_df[\"balanced.sum\"] / expected_df[\"n_valid\"]"
   ]
  },
  {
   "cell_type": "code",
   "execution_count": 13,
   "metadata": {},
   "outputs": [
    {
     "output_type": "execute_result",
     "data": {
      "text/plain": "  chrom  start        end  diag  n_valid  count.sum  balanced.sum  \\\n0  chr1      0  125200000     0     2122     1858.0     18.949417   \n1  chr1      0  125200000     1     2044     2064.0     23.857389   \n2  chr1      0  125200000     2     2020     1757.0     19.482067   \n3  chr1      0  125200000     3     2006     1539.0     17.003948   \n4  chr1      0  125200000     4     1996     1359.0     14.855496   \n\n   balanced.avg  \n0      0.008930  \n1      0.011672  \n2      0.009645  \n3      0.008477  \n4      0.007443  ",
      "text/html": "<div>\n<style scoped>\n    .dataframe tbody tr th:only-of-type {\n        vertical-align: middle;\n    }\n\n    .dataframe tbody tr th {\n        vertical-align: top;\n    }\n\n    .dataframe thead th {\n        text-align: right;\n    }\n</style>\n<table border=\"1\" class=\"dataframe\">\n  <thead>\n    <tr style=\"text-align: right;\">\n      <th></th>\n      <th>chrom</th>\n      <th>start</th>\n      <th>end</th>\n      <th>diag</th>\n      <th>n_valid</th>\n      <th>count.sum</th>\n      <th>balanced.sum</th>\n      <th>balanced.avg</th>\n    </tr>\n  </thead>\n  <tbody>\n    <tr>\n      <th>0</th>\n      <td>chr1</td>\n      <td>0</td>\n      <td>125200000</td>\n      <td>0</td>\n      <td>2122</td>\n      <td>1858.0</td>\n      <td>18.949417</td>\n      <td>0.008930</td>\n    </tr>\n    <tr>\n      <th>1</th>\n      <td>chr1</td>\n      <td>0</td>\n      <td>125200000</td>\n      <td>1</td>\n      <td>2044</td>\n      <td>2064.0</td>\n      <td>23.857389</td>\n      <td>0.011672</td>\n    </tr>\n    <tr>\n      <th>2</th>\n      <td>chr1</td>\n      <td>0</td>\n      <td>125200000</td>\n      <td>2</td>\n      <td>2020</td>\n      <td>1757.0</td>\n      <td>19.482067</td>\n      <td>0.009645</td>\n    </tr>\n    <tr>\n      <th>3</th>\n      <td>chr1</td>\n      <td>0</td>\n      <td>125200000</td>\n      <td>3</td>\n      <td>2006</td>\n      <td>1539.0</td>\n      <td>17.003948</td>\n      <td>0.008477</td>\n    </tr>\n    <tr>\n      <th>4</th>\n      <td>chr1</td>\n      <td>0</td>\n      <td>125200000</td>\n      <td>4</td>\n      <td>1996</td>\n      <td>1359.0</td>\n      <td>14.855496</td>\n      <td>0.007443</td>\n    </tr>\n  </tbody>\n</table>\n</div>"
     },
     "metadata": {},
     "execution_count": 13
    }
   ],
   "source": [
    "expected_df.head()"
   ]
  },
  {
   "cell_type": "markdown",
   "metadata": {},
   "source": [
    "# Pileup"
   ]
  },
  {
   "cell_type": "code",
   "execution_count": 14,
   "metadata": {},
   "outputs": [],
   "source": [
    "oe_snipper = cooltools.snipping.ObsExpSnipper(c, expected_df)"
   ]
  },
  {
   "cell_type": "code",
   "execution_count": 15,
   "metadata": {},
   "outputs": [],
   "source": [
    "oe_pileN = cooltools.snipping.pileup(\n",
    "    snipping_windows, oe_snipper.select, oe_snipper.snip\n",
    ")"
   ]
  },
  {
   "cell_type": "code",
   "execution_count": 19,
   "metadata": {},
   "outputs": [
    {
     "output_type": "execute_result",
     "data": {
      "text/plain": "(21, 21, 100)"
     },
     "metadata": {},
     "execution_count": 19
    }
   ],
   "source": [
    "oe_pileN.shape"
   ]
  },
  {
   "cell_type": "code",
   "execution_count": null,
   "metadata": {},
   "outputs": [],
   "source": []
  }
 ],
 "metadata": {
  "language_info": {
   "codemirror_mode": {
    "name": "ipython",
    "version": 3
   },
   "file_extension": ".py",
   "mimetype": "text/x-python",
   "name": "python",
   "nbconvert_exporter": "python",
   "pygments_lexer": "ipython3",
   "version": "3.8.3-final"
  },
  "orig_nbformat": 2,
  "kernelspec": {
   "name": "ngstest",
   "display_name": "Python (NGStest)"
  }
 },
 "nbformat": 4,
 "nbformat_minor": 2
}